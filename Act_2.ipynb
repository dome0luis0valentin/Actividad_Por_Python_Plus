{
  "nbformat": 4,
  "nbformat_minor": 0,
  "metadata": {
    "colab": {
      "name": "Untitled0.ipynb",
      "provenance": [],
      "collapsed_sections": [],
      "authorship_tag": "ABX9TyMgGBwHYz2ql5/pzPZlVQJn",
      "include_colab_link": true
    },
    "kernelspec": {
      "name": "python3",
      "display_name": "Python 3"
    },
    "language_info": {
      "name": "python"
    }
  },
  "cells": [
    {
      "cell_type": "markdown",
      "metadata": {
        "id": "view-in-github",
        "colab_type": "text"
      },
      "source": [
        "<a href=\"https://colab.research.google.com/github/dome0luis0valentin/Actividad_Por_Python_Plus/blob/main/Act_2.ipynb\" target=\"_parent\"><img src=\"https://colab.research.google.com/assets/colab-badge.svg\" alt=\"Open In Colab\"/></a>"
      ]
    },
    {
      "cell_type": "code",
      "metadata": {
        "colab": {
          "base_uri": "https://localhost:8080/",
          "height": 979
        },
        "id": "S8f34xU77eKp",
        "outputId": "cab9a527-bfdc-4943-b987-396d29208878"
      },
      "source": [
        "from matplotlib import pyplot as plt\n",
        "import matplotlib\n",
        "import pandas as pd\n",
        "\n",
        "data_set = pd.read_csv('sample_data/Partidas.csv', encoding='utf-8')\n",
        "\n",
        "cant_filas =  len(data_set)\n",
        "print(\"****************************************\")\n",
        "print(\"Partidas:\")\n",
        "print(data_set[\"Partida\"])\n",
        "print(\"****************************************\")\n",
        "\n",
        "serie = data_set[[\"Partida\", \"Estado\", \"Palabra\"]]\n",
        "\n",
        "mayor = serie.at[cant_filas-1, \"Partida\"]\n",
        "print(f'Seleccione una partida(menor que {mayor})')\n",
        "part = int(input(\"Valor: \"))\n",
        "\n",
        "print(\"****************************************\")\n",
        "\n",
        "print(\"Partida Seleccionada\")\n",
        "partidas = serie[serie[\"Partida\"] == part]\n",
        "print(partidas)\n",
        "print(\"****************************************\")\n",
        "\n",
        "part_palabras =  partidas[(partidas[\"Estado\"] == \"Ok\" ) | (partidas[\"Estado\"] == \"error\")]\n",
        "\n",
        "print(\"Palabras en la partida seleccionada\")\n",
        "\n",
        "print(part_palabras[\"Palabra\"].unique())\n",
        "\n",
        "print(\"****************************************\")\n",
        "\n",
        "tupla_pal = part_palabras[\"Palabra\"].unique()\n",
        "\n",
        "datos = part_palabras[\"Palabra\"].value_counts()\n",
        "\n",
        "print(\"Cantidad de veces que se lecciono cada palabra\")\n",
        "print(datos)\n",
        "print(\"****************************************\")\n",
        "\n",
        "graf = datos.plot(kind=\"pie\")\n",
        "print(\"Grafico:\")\n",
        "print(graf)\n",
        "plt.show()\n",
        "\n",
        "print(len(datos))\n"
      ],
      "execution_count": 35,
      "outputs": [
        {
          "output_type": "stream",
          "text": [
            "****************************************\n",
            "Partidas:\n",
            "0       1\n",
            "1       1\n",
            "2       1\n",
            "3       1\n",
            "4       1\n",
            "       ..\n",
            "583    81\n",
            "584    81\n",
            "585    82\n",
            "586    82\n",
            "587    82\n",
            "Name: Partida, Length: 588, dtype: int64\n",
            "****************************************\n",
            "Seleccione una partida(menor que 82)\n",
            "Valor: 72\n",
            "****************************************\n",
            "Partida Seleccionada\n",
            "     Partida   Estado            Palabra\n",
            "518       72      NaN                NaN\n",
            "519       72    error  Northwestern Wolf\n",
            "520       72    error  Northwestern Wolf\n",
            "521       72    error     Ethiopian Wolf\n",
            "522       72       Ok        Arctic Wolf\n",
            "523       72    error  Northwestern Wolf\n",
            "524       72    error     Ethiopian Wolf\n",
            "525       72    error  Northwestern Wolf\n",
            "526       72    error     Ethiopian Wolf\n",
            "527       72  timeout     Ethiopian Wolf\n",
            "****************************************\n",
            "Palabras en la partida seleccionada\n",
            "['Northwestern Wolf' 'Ethiopian Wolf' 'Arctic Wolf']\n",
            "****************************************\n",
            "Cantidad de veces que se lecciono cada palabra\n",
            "Northwestern Wolf    4\n",
            "Ethiopian Wolf       3\n",
            "Arctic Wolf          1\n",
            "Name: Palabra, dtype: int64\n",
            "****************************************\n",
            "Grafico:\n",
            "AxesSubplot(0.260833,0.125;0.503333x0.755)\n"
          ],
          "name": "stdout"
        },
        {
          "output_type": "display_data",
          "data": {
            "image/png": "[encoded data removed]",
            "text/plain": [
              "<Figure size 432x288 with 1 Axes>"
            ]
          },
          "metadata": {
            "tags": []
          }
        },
        {
          "output_type": "stream",
          "text": [
            "3\n"
          ],
          "name": "stdout"
        }
      ]
    }
  ]
}